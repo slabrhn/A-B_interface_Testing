{
 "cells": [
  {
   "cell_type": "markdown",
   "id": "b09f319e",
   "metadata": {},
   "source": [
    "### The aim of the project and the story of dataset\n",
    "\n",
    "In this study, it is aimed to test the interface screens of the mobile application called 'Cloud Library', which is a book sharing platform, on users and to create a new interface system as a result of this test.'Sign-up, Recommendation and Notification Settings' interfaces have been tested on users. \n",
    "\n",
    "The user testing process was made in Turkey and the Netherlands. The study was conducted on 70 people in total, 35 from each country.\n",
    "\n",
    "    .User_group_1 -> Survey in Turkey\n",
    "    .User_group_2 -> Survey in Netherlands"
   ]
  },
  {
   "cell_type": "code",
   "execution_count": 1,
   "id": "aefc1c96",
   "metadata": {},
   "outputs": [],
   "source": [
    "import pandas as pd\n",
    "from scipy.stats import shapiro, levene\n",
    "from statsmodels.stats.proportion import proportions_ztest\n",
    "\n",
    "pd.set_option('display.max_columns', None)\n",
    "pd.set_option('display.max_rows', None)\n",
    "pd.set_option('display.width', None)\n",
    "pd.set_option('display.float_format', lambda x: '%.3f' % x)\n"
   ]
  },
  {
   "cell_type": "code",
   "execution_count": 2,
   "id": "34fa7d7c",
   "metadata": {},
   "outputs": [],
   "source": [
    "user_group_1 = pd.read_csv(r'/Users/firatsoydinc/Desktop/Master /Block - B/Smart Interface/A:B User Testing /user_group_1.csv')\n",
    "user_group_2 = pd.read_csv(r'/Users/firatsoydinc/Desktop/Master /Block - B/Smart Interface/A:B User Testing /user_group_2.csv')\n"
   ]
  },
  {
   "cell_type": "code",
   "execution_count": 3,
   "id": "91b1862b",
   "metadata": {},
   "outputs": [],
   "source": [
    "user_group_1.rename({'Zaman damgası':'Time','Yaşınız nedir?':'Age','Eğitim durumunuz nedir?':'Education_Level','Cinsiyetiniz nedir? ':'Gender',\n",
    "                     'Bir siteye kaydolurken \"Google\" veya \" Apple\" ile kaydolma seçeceği olduğunda bunları kullanmayı tercih eder misiniz?':'Singup_Preferences',\n",
    "                     'Bildirim arayüzünün kullanıcıya göre ayarlanabilir olması sizin için önemli midir? (Belirli gün veya saatlerde bildirim göndermemesi gibi)':'Notification_Preferences',\n",
    "                     'Kitap öneri ekranında bulunan kitapların sadece isim bilgisinin olmasını mı yoksa kitaba ait ön bilgilerin olmasını mı tercih edersiniz?':'Recommendation_Preferences'},axis=1,inplace=True)\n",
    "user_group_1[\"Education_Level\"].replace({'Lise':'Highschool',\"Üniversite\": \"Bachelor\", \"Yüksek Lisans\": \"Master\",'Diğer':'Other'}, inplace=True)\n",
    "user_group_1[\"Gender\"].replace({'Kadın':'Female',\"Erkek\": \"Male\", \"Diğer\": \"Other\"}, inplace=True)\n",
    "user_group_1[\"Singup_Preferences\"].replace({'Evet':'Yes',\"Hayır\": \"No\"}, inplace=True)\n",
    "user_group_1[\"Notification_Preferences\"].replace({'Evet':'Yes',\"Hayır\": \"No\"}, inplace=True)\n",
    "user_group_1[\"Recommendation_Preferences\"].replace({'Sadece kitabın fotoğrafları':'Only the name of the book',\"Kitaba ait ön bilgiler\": \"Preliminary information of the book\"}, inplace=True)\n",
    "user_group_1[\"Age\"].replace({'35-45':'35-44'}, inplace=True)\n",
    "\n"
   ]
  },
  {
   "cell_type": "markdown",
   "id": "aad9a607",
   "metadata": {},
   "source": [
    "Since the study was conducted using google surveys, it is necessary to organize the dataset. In addition, since the results of the survey conducted in Turkey are in Turkish, the answers have been translated into English. In addition, since the variable names consisted of the questions in the questionnaire, the renaming was done."
   ]
  },
  {
   "cell_type": "code",
   "execution_count": 4,
   "id": "bdb9f68f",
   "metadata": {},
   "outputs": [],
   "source": [
    "user_group_2.rename({'Zaman damgası':'Time','What is your age? ':'Age','What is your education level? ':'Education_Level','What is your gender? ':'Gender',\n",
    "                     'When registering for a site, would you prefer to use them when there is an option to register with a \"Google\" and \"Apple\" account?':'Singup_Preferences',\n",
    "                     'Is it important for you that the notification interface is user-adjustable? (Like not sending notifications on certain days or hours)':'Notification_Preferences',\n",
    "                     'Do you prefer the books on the book recommendation screen to have only the name information or to have the preliminary information about the book?':'Recommendation_Preferences'},axis=1,inplace=True)\n",
    "\n",
    "#Since there was no response given by a user to the recommendation system question, it was filled with the mod of variable\n",
    "user_group_2['Recommendation_Preferences'].fillna('Preliminary information of the book')\n",
    "\n",
    "#Also, since the time variable did not create a value for the study, it was removed from the data set.\n",
    "user_group_1.drop(['Time'],axis=1,inplace=True)\n",
    "user_group_2.drop(['Time'],axis=1,inplace=True)\n",
    "\n"
   ]
  },
  {
   "cell_type": "code",
   "execution_count": 5,
   "id": "f06579d3",
   "metadata": {},
   "outputs": [],
   "source": [
    "def grab_col_names(dataframe, cat_th=10, car_th=20):\n",
    "    \"\"\"\n",
    "    grab_col_names for given dataframe\n",
    "\n",
    "    :param dataframe:\n",
    "    :param cat_th:\n",
    "    :param car_th:\n",
    "    :return:\n",
    "    \"\"\"\n",
    "\n",
    "    cat_cols = [col for col in dataframe.columns if dataframe[col].dtypes == \"O\"]\n",
    "\n",
    "    num_but_cat = [col for col in dataframe.columns if dataframe[col].nunique() < cat_th and\n",
    "                   dataframe[col].dtypes != \"O\"]\n",
    "\n",
    "    cat_but_car = [col for col in dataframe.columns if dataframe[col].nunique() > car_th and\n",
    "                   dataframe[col].dtypes == \"O\"]\n",
    "\n",
    "    cat_cols = cat_cols + num_but_cat\n",
    "    cat_cols = [col for col in cat_cols if col not in cat_but_car]\n",
    "\n",
    "    num_cols = [col for col in dataframe.columns if dataframe[col].dtypes != \"O\"]\n",
    "    num_cols = [col for col in num_cols if col not in num_but_cat]\n",
    "\n",
    "    print(f\"Observations: {dataframe.shape[0]}\")\n",
    "    print(f\"Variables: {dataframe.shape[1]}\")\n",
    "    print(f'cat_cols: {len(cat_cols)}')\n",
    "    print(f'num_cols: {len(num_cols)}')\n",
    "    print(f'cat_but_car: {len(cat_but_car)}')\n",
    "    print(f'num_but_cat: {len(num_but_cat)}')\n",
    "\n",
    "#The num_but_cat variable is included in the cat_cols variable. Therefore, adding cat_cols, \n",
    "#num_cols and cat_but_car values will be sufficient for the total number of variables.\n",
    "\n",
    "    return cat_cols, cat_but_car, num_cols, num_but_cat\n"
   ]
  },
  {
   "cell_type": "code",
   "execution_count": 6,
   "id": "bb48362c",
   "metadata": {},
   "outputs": [
    {
     "name": "stdout",
     "output_type": "stream",
     "text": [
      "Observations: 35\n",
      "Variables: 6\n",
      "cat_cols: 6\n",
      "num_cols: 0\n",
      "cat_but_car: 0\n",
      "num_but_cat: 0\n"
     ]
    }
   ],
   "source": [
    "cat_cols_1, cat_but_car_1, num_cols_1, num_but_cat_1 = grab_col_names(user_group_1)"
   ]
  },
  {
   "cell_type": "code",
   "execution_count": 7,
   "id": "1cb6febd",
   "metadata": {
    "scrolled": true
   },
   "outputs": [
    {
     "name": "stdout",
     "output_type": "stream",
     "text": [
      "Observations: 35\n",
      "Variables: 6\n",
      "cat_cols: 6\n",
      "num_cols: 0\n",
      "cat_but_car: 0\n",
      "num_but_cat: 0\n"
     ]
    }
   ],
   "source": [
    "cat_cols_2, cat_but_car_2, num_cols_2, num_but_cat_2 = grab_col_names(user_group_2)"
   ]
  },
  {
   "cell_type": "markdown",
   "id": "1f96e87c",
   "metadata": {},
   "source": [
    "In order to convert the categorical variables in the data set to numerical variables, the one-hot encoding process is applied to the data set."
   ]
  },
  {
   "cell_type": "code",
   "execution_count": 8,
   "id": "34dca714",
   "metadata": {},
   "outputs": [],
   "source": [
    "def one_hot_encoder(dataframe, categorical_cols, drop_first=False):\n",
    "    dataframe = pd.get_dummies(dataframe, columns=categorical_cols, drop_first=drop_first)\n",
    "    return dataframe\n",
    "\n",
    "user_group_1 = one_hot_encoder(user_group_1, cat_cols_1, drop_first=True)\n",
    "user_group_2 = one_hot_encoder(user_group_2, cat_cols_2, drop_first=True)"
   ]
  },
  {
   "cell_type": "markdown",
   "id": "a0cf31e8",
   "metadata": {},
   "source": [
    "### A/B Test\n",
    "A/B test is performed to check whether there is a statistically significant difference between two independent data sets. There are 2 different A/B test methods. One of them is parametric and the other is nonparametric. In order to perform a parametric test, the data set must provide 3 assumptions. If even one of these assumptions is not met, non-parametric testing is applied.\n",
    "\n",
    "Assumptions: \n",
    "    \n",
    "    Number of observations must be at least 30  (n>30)\n",
    "    \n",
    "    Variables must be normal distributed \n",
    "    \n",
    "    Variance homogeneity must be assigned by variables\n",
    "\n",
    "#### First Assumption n>30"
   ]
  },
  {
   "cell_type": "code",
   "execution_count": 9,
   "id": "c7141c3e",
   "metadata": {},
   "outputs": [
    {
     "data": {
      "text/plain": [
       "(35, 7)"
      ]
     },
     "execution_count": 9,
     "metadata": {},
     "output_type": "execute_result"
    }
   ],
   "source": [
    "user_group_1.shape"
   ]
  },
  {
   "cell_type": "code",
   "execution_count": 10,
   "id": "611f29e3",
   "metadata": {},
   "outputs": [
    {
     "data": {
      "text/plain": [
       "(35, 9)"
      ]
     },
     "execution_count": 10,
     "metadata": {},
     "output_type": "execute_result"
    }
   ],
   "source": [
    "user_group_2.shape"
   ]
  },
  {
   "cell_type": "markdown",
   "id": "244220e5",
   "metadata": {},
   "source": [
    "It includes more than 30 observations in both groups."
   ]
  },
  {
   "cell_type": "markdown",
   "id": "280b20ac",
   "metadata": {},
   "source": [
    "#### Second Assumption (Normal Distribution)\n",
    "\n",
    "    H1: Variables are normally distributed.\n",
    "    H0: Variables are not normally distributed.\n",
    "    \n",
    "If p_value is less than 0.05 h1 is reject, else fail to reject "
   ]
  },
  {
   "cell_type": "code",
   "execution_count": 11,
   "id": "78aeacba",
   "metadata": {},
   "outputs": [
    {
     "name": "stdout",
     "output_type": "stream",
     "text": [
      "Test Stat of  Age_25-34 = 0.3718, p-value = 0.0000\n",
      "Test Stat of  Age_35-44 = 0.2500, p-value = 0.0000\n",
      "Test Stat of  Education_Level_Master = 0.5458, p-value = 0.0000\n",
      "Test Stat of  Gender_Male = 0.6373, p-value = 0.0000\n",
      "Test Stat of  Singup_Preferences_Yes = 0.5855, p-value = 0.0000\n",
      "Test Stat of  Notification_Preferences_Yes = 0.4575, p-value = 0.0000\n",
      "Test Stat of  Recommendation_Preferences_Preliminary information of the book = 0.5673, p-value = 0.0000\n"
     ]
    }
   ],
   "source": [
    "for each in user_group_1.columns:\n",
    "    test_stat, pvalue = shapiro(user_group_1[each])\n",
    "    print('Test Stat of ', each ,'= %.4f, p-value = %.4f' % (test_stat, pvalue))\n"
   ]
  },
  {
   "cell_type": "code",
   "execution_count": 12,
   "id": "77c0dfad",
   "metadata": {},
   "outputs": [
    {
     "name": "stdout",
     "output_type": "stream",
     "text": [
      "Test Stat of  Age_25-34 = 0.5458, p-value = 0.0000\n",
      "Test Stat of  Age_35-44 = 0.1615, p-value = 0.0000\n",
      "Test Stat of  Age_45-54 = 0.1615, p-value = 0.0000\n",
      "Test Stat of  Education_Level_Highschool = 0.4914, p-value = 0.0000\n",
      "Test Stat of  Education_Level_Master = 0.4914, p-value = 0.0000\n",
      "Test Stat of  Gender_Male = 0.6229, p-value = 0.0000\n",
      "Test Stat of  Singup_Preferences_Yes = 0.5458, p-value = 0.0000\n",
      "Test Stat of  Notification_Preferences_Yes = 0.4575, p-value = 0.0000\n",
      "Test Stat of  Recommendation_Preferences_Preliminary information of the book = 0.4914, p-value = 0.0000\n"
     ]
    }
   ],
   "source": [
    "\n",
    "for each in user_group_2.columns:\n",
    "    test_stat, pvalue = shapiro(user_group_2[each])\n",
    "    print('Test Stat of ', each ,'= %.4f, p-value = %.4f' % (test_stat, pvalue))"
   ]
  },
  {
   "cell_type": "markdown",
   "id": "395dfc5f",
   "metadata": {},
   "source": [
    "All variables in the both data set provide the assumption of normality."
   ]
  },
  {
   "cell_type": "markdown",
   "id": "25f8cb2d",
   "metadata": {},
   "source": [
    "#### Third Assumption (Variance Homogenity)\n",
    "\n",
    "    H1: Variances of Variables Are Homogeneously Distributed\n",
    "    H0: Not homogeneously distributed\n",
    "   \n",
    "If p_value is less than 0.05 h1 is reject, else fail to reject "
   ]
  },
  {
   "cell_type": "code",
   "execution_count": 13,
   "id": "a099bcc6",
   "metadata": {},
   "outputs": [
    {
     "name": "stdout",
     "output_type": "stream",
     "text": [
      "Test Stat of  Age_25-34 = 0.3718, p-value = 0.0000\n",
      "Test Stat of  Age_35-44 = 0.2500, p-value = 0.0000\n",
      "Test Stat of  Education_Level_Master = 0.5458, p-value = 0.0000\n",
      "Test Stat of  Gender_Male = 0.6373, p-value = 0.0000\n",
      "Test Stat of  Singup_Preferences_Yes = 0.5855, p-value = 0.0000\n",
      "Test Stat of  Notification_Preferences_Yes = 0.4575, p-value = 0.0000\n",
      "Test Stat of  Recommendation_Preferences_Preliminary information of the book = 0.5673, p-value = 0.0000\n"
     ]
    }
   ],
   "source": [
    "for each in user_group_1.columns:\n",
    "    test_stat, pvalue = shapiro(user_group_1[each])\n",
    "    print('Test Stat of ', each ,'= %.4f, p-value = %.4f' % (test_stat, pvalue))\n"
   ]
  },
  {
   "cell_type": "code",
   "execution_count": 14,
   "id": "eb8a0b81",
   "metadata": {},
   "outputs": [
    {
     "name": "stdout",
     "output_type": "stream",
     "text": [
      "Test Stat of  Age_25-34 = 0.5458, p-value = 0.0000\n",
      "Test Stat of  Age_35-44 = 0.1615, p-value = 0.0000\n",
      "Test Stat of  Age_45-54 = 0.1615, p-value = 0.0000\n",
      "Test Stat of  Education_Level_Highschool = 0.4914, p-value = 0.0000\n",
      "Test Stat of  Education_Level_Master = 0.4914, p-value = 0.0000\n",
      "Test Stat of  Gender_Male = 0.6229, p-value = 0.0000\n",
      "Test Stat of  Singup_Preferences_Yes = 0.5458, p-value = 0.0000\n",
      "Test Stat of  Notification_Preferences_Yes = 0.4575, p-value = 0.0000\n",
      "Test Stat of  Recommendation_Preferences_Preliminary information of the book = 0.4914, p-value = 0.0000\n"
     ]
    }
   ],
   "source": [
    "for each in user_group_2.columns:\n",
    "    test_stat, pvalue = shapiro(user_group_2[each])\n",
    "    print('Test Stat of ', each ,'= %.4f, p-value = %.4f' % (test_stat, pvalue))"
   ]
  },
  {
   "cell_type": "markdown",
   "id": "0516fcd7",
   "metadata": {},
   "source": [
    "All variables in the both data set provide the assumption of variance homogenity."
   ]
  },
  {
   "cell_type": "markdown",
   "id": "09f01ce5",
   "metadata": {},
   "source": [
    "#### 1. Sign - Up Interface\n",
    "\n",
    "    H1: People prefer to enroll to an app with using sercive provider accounts like Google, Apple and so on.\n",
    "    H0: People don't prefer to enroll to an app with using sercive provider accounts like Google, Apple and so on."
   ]
  },
  {
   "cell_type": "code",
   "execution_count": 15,
   "id": "2382e436",
   "metadata": {},
   "outputs": [
    {
     "name": "stdout",
     "output_type": "stream",
     "text": [
      "Test Stat = -3.5916, p-value = 0.0003\n"
     ]
    }
   ],
   "source": [
    "test_stat, pvalue = proportions_ztest(count=[((user_group_1['Singup_Preferences_Yes'].value_counts()))[0], (user_group_2['Singup_Preferences_Yes'].value_counts())[1]],\n",
    "                                      nobs=[user_group_1['Singup_Preferences_Yes'].count(), user_group_2['Singup_Preferences_Yes'].count()])\n",
    "print('Test Stat = %.4f, p-value = %.4f' % (test_stat, pvalue))"
   ]
  },
  {
   "cell_type": "code",
   "execution_count": 16,
   "id": "1ba6f178",
   "metadata": {},
   "outputs": [
    {
     "name": "stdout",
     "output_type": "stream",
     "text": [
      "The ratio of people in user_group_1 who not prefer to enroll with sercive provider accounts is  0.3143\n"
     ]
    }
   ],
   "source": [
    "ratio_of_signup_1 = (user_group_1['Singup_Preferences_Yes'].value_counts())[0]/user_group_1['Singup_Preferences_Yes'].count()\n",
    "print('The ratio of people in user_group_1 who not prefer to enroll with sercive provider accounts is ', round(ratio_of_signup_1,4) )"
   ]
  },
  {
   "cell_type": "code",
   "execution_count": 17,
   "id": "abd30719",
   "metadata": {},
   "outputs": [
    {
     "name": "stdout",
     "output_type": "stream",
     "text": [
      "The ratio of people in user_group_2 who prefer to enroll with sercive provider accounts is  0.7429\n"
     ]
    }
   ],
   "source": [
    "ratio_of_signup_2 = (user_group_2['Singup_Preferences_Yes'].value_counts())[1]/user_group_1['Singup_Preferences_Yes'].count()\n",
    "print('The ratio of people in user_group_2 who prefer to enroll with sercive provider accounts is ', round(ratio_of_signup_2,4) )"
   ]
  },
  {
   "cell_type": "markdown",
   "id": "bc77e8c8",
   "metadata": {},
   "source": [
    "The p-value is less than 0.05 so the H1 hypothesis fails to reject. In addition, since the rate of those who prefer to use service providers to register for the application is higher than those who do not, registration with service providers has been used as an interface screen."
   ]
  },
  {
   "cell_type": "markdown",
   "id": "b6596613",
   "metadata": {},
   "source": [
    "#### 2. Recommendation System Screen \n",
    "\n",
    "    H1: People want to see more information about the product in their recommendation system.\n",
    "    H0: People don't want to see more information about the product in their recommendation system.\n"
   ]
  },
  {
   "cell_type": "code",
   "execution_count": 18,
   "id": "3e8102e4",
   "metadata": {},
   "outputs": [
    {
     "name": "stdout",
     "output_type": "stream",
     "text": [
      "Test Stat = -4.3187, p-value = 0.0000\n"
     ]
    }
   ],
   "source": [
    "test_stat, pvalue = proportions_ztest(count=[((user_group_1['Recommendation_Preferences_Preliminary information of the book'].value_counts()))[0], (user_group_2['Recommendation_Preferences_Preliminary information of the book'].value_counts())[1]],\n",
    "                                      nobs=[user_group_1['Recommendation_Preferences_Preliminary information of the book'].count(), user_group_2['Recommendation_Preferences_Preliminary information of the book'].count()])\n",
    "print('Test Stat = %.4f, p-value = %.4f' % (test_stat, pvalue))"
   ]
  },
  {
   "cell_type": "code",
   "execution_count": 19,
   "id": "20c17c1c",
   "metadata": {},
   "outputs": [
    {
     "name": "stdout",
     "output_type": "stream",
     "text": [
      "The ratio of people in user_group_1 who not prefer to see more information on their recommendation screen is  0.2857\n"
     ]
    }
   ],
   "source": [
    "ratio_of_recommendation_1 = (user_group_1['Recommendation_Preferences_Preliminary information of the book'].value_counts())[0]/user_group_1['Recommendation_Preferences_Preliminary information of the book'].count()\n",
    "print('The ratio of people in user_group_1 who not prefer to see more information on their recommendation screen is ', round(ratio_of_recommendation_1,4) )"
   ]
  },
  {
   "cell_type": "code",
   "execution_count": 20,
   "id": "7aaa4ed1",
   "metadata": {},
   "outputs": [
    {
     "name": "stdout",
     "output_type": "stream",
     "text": [
      "The ratio of people in user_group_2 who not prefer to see more information on their recommendation screen is  0.8\n"
     ]
    }
   ],
   "source": [
    "ratio_of_recommendation_2 = (user_group_2['Recommendation_Preferences_Preliminary information of the book'].value_counts())[1]/user_group_1['Recommendation_Preferences_Preliminary information of the book'].count()\n",
    "print('The ratio of people in user_group_2 who not prefer to see more information on their recommendation screen is ', round(ratio_of_recommendation_2,4) )\n"
   ]
  },
  {
   "cell_type": "markdown",
   "id": "06fdd202",
   "metadata": {},
   "source": [
    "The p-value is less than 0.05 so the H1 hypothesis fails to reject. In addition, since the rate of those who prefer to see more information about the product on the recommendation system screens is higher than those who do not, it has been decided to use an interface with more information in the recommendation system interface."
   ]
  },
  {
   "cell_type": "markdown",
   "id": "ee7729d3",
   "metadata": {},
   "source": [
    "#### 3. Notification Settings    \n",
    "    \n",
    "    H1: People want to adjust notifications in the app.\n",
    "    H0: People don't want to adjust notifications in the app"
   ]
  },
  {
   "cell_type": "code",
   "execution_count": 21,
   "id": "5286c10c",
   "metadata": {},
   "outputs": [
    {
     "name": "stdout",
     "output_type": "stream",
     "text": [
      "Test Stat = -5.4981, p-value = 0.0000\n"
     ]
    }
   ],
   "source": [
    "test_stat, pvalue = proportions_ztest(count=[((user_group_1['Notification_Preferences_Yes'].value_counts()))[0], (user_group_2['Notification_Preferences_Yes'].value_counts())[1]],\n",
    "                                      nobs=[user_group_1['Notification_Preferences_Yes'].count(), user_group_2['Notification_Preferences_Yes'].count()])\n",
    "print('Test Stat = %.4f, p-value = %.4f' % (test_stat, pvalue))\n",
    "\n"
   ]
  },
  {
   "cell_type": "code",
   "execution_count": 22,
   "id": "f73c3ed9",
   "metadata": {},
   "outputs": [
    {
     "name": "stdout",
     "output_type": "stream",
     "text": [
      "The ratio of people in user_group_1 who not want to adjust notifications  0.1714\n"
     ]
    }
   ],
   "source": [
    "ratio_of_notification_1 = (user_group_1['Notification_Preferences_Yes'].value_counts())[0]/user_group_1['Notification_Preferences_Yes'].count()\n",
    "print('The ratio of people in user_group_1 who not want to adjust notifications ', round(ratio_of_notification_1,4) )\n"
   ]
  },
  {
   "cell_type": "code",
   "execution_count": 23,
   "id": "6adcbd7a",
   "metadata": {},
   "outputs": [
    {
     "name": "stdout",
     "output_type": "stream",
     "text": [
      "The ratio of people in user_group_2 who want to adjust notifications  0.8286\n"
     ]
    }
   ],
   "source": [
    "ratio_of_notification_2 = (user_group_2['Notification_Preferences_Yes'].value_counts())[1]/user_group_1['Notification_Preferences_Yes'].count()\n",
    "print('The ratio of people in user_group_2 who want to adjust notifications ', round(ratio_of_notification_2,4) )\n"
   ]
  },
  {
   "cell_type": "markdown",
   "id": "17331307",
   "metadata": {},
   "source": [
    "The p-value is less than 0.05 so the H1 hypothesis fails to reject. In addition, since the rate of those who prefer to adjust notifications is higher than those who do not, it has been decided to use an interface with adjustable notifications."
   ]
  }
 ],
 "metadata": {
  "kernelspec": {
   "display_name": "Python 3 (ipykernel)",
   "language": "python",
   "name": "python3"
  },
  "language_info": {
   "codemirror_mode": {
    "name": "ipython",
    "version": 3
   },
   "file_extension": ".py",
   "mimetype": "text/x-python",
   "name": "python",
   "nbconvert_exporter": "python",
   "pygments_lexer": "ipython3",
   "version": "3.9.7"
  }
 },
 "nbformat": 4,
 "nbformat_minor": 5
}
